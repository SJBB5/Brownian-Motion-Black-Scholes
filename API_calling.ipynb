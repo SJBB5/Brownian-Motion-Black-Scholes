{
 "cells": [
  {
   "cell_type": "code",
   "execution_count": 26,
   "id": "f5f159f4-301d-49ce-9d0e-8f6cf8c8652d",
   "metadata": {},
   "outputs": [],
   "source": [
    "import requests\n",
    "import pandas as pd\n",
    "import os\n",
    "from dotenv import load_dotenv\n",
    "import matplotlib.pyplot as plt\n",
    "# Load the .env file\n",
    "load_dotenv()\n",
    "\n",
    "# API key\n",
    "API_KEY = os.getenv(\"POLYGON_API_KEY\")"
   ]
  },
  {
   "cell_type": "code",
   "execution_count": 6,
   "id": "bf7defdb-d439-4cab-a671-ffb2ea0314fb",
   "metadata": {},
   "outputs": [],
   "source": [
    "url = f\"https://api.polygon.io/v3/reference/dividends?apiKey={API_KEY}\"\n",
    "response = requests.get(url)\n",
    "data = response.json()"
   ]
  },
  {
   "cell_type": "code",
   "execution_count": 12,
   "id": "b7ca0c2d-6129-4b55-9e80-e4be225979a4",
   "metadata": {},
   "outputs": [],
   "source": [
    "df = pd.DataFrame(data['results'])"
   ]
  },
  {
   "cell_type": "code",
   "execution_count": 22,
   "id": "e4d40f5a-408f-4871-9ef3-8edeb6f6c6f2",
   "metadata": {},
   "outputs": [
    {
     "data": {
      "text/html": [
       "<div>\n",
       "<style scoped>\n",
       "    .dataframe tbody tr th:only-of-type {\n",
       "        vertical-align: middle;\n",
       "    }\n",
       "\n",
       "    .dataframe tbody tr th {\n",
       "        vertical-align: top;\n",
       "    }\n",
       "\n",
       "    .dataframe thead th {\n",
       "        text-align: right;\n",
       "    }\n",
       "</style>\n",
       "<table border=\"1\" class=\"dataframe\">\n",
       "  <thead>\n",
       "    <tr style=\"text-align: right;\">\n",
       "      <th></th>\n",
       "      <th>cash_amount</th>\n",
       "      <th>currency</th>\n",
       "      <th>dividend_type</th>\n",
       "      <th>ex_dividend_date</th>\n",
       "      <th>frequency</th>\n",
       "      <th>id</th>\n",
       "      <th>pay_date</th>\n",
       "      <th>record_date</th>\n",
       "      <th>ticker</th>\n",
       "    </tr>\n",
       "  </thead>\n",
       "  <tbody>\n",
       "    <tr>\n",
       "      <th>0</th>\n",
       "      <td>0.489757</td>\n",
       "      <td>USD</td>\n",
       "      <td>CD</td>\n",
       "      <td>2030-12-13</td>\n",
       "      <td>4</td>\n",
       "      <td>E396fbae341a40e1373ea57ce984c386f06778209996e5...</td>\n",
       "      <td>2030-12-31</td>\n",
       "      <td>2030-12-15</td>\n",
       "      <td>GECCG</td>\n",
       "    </tr>\n",
       "    <tr>\n",
       "      <th>1</th>\n",
       "      <td>0.484375</td>\n",
       "      <td>USD</td>\n",
       "      <td>CD</td>\n",
       "      <td>2030-09-13</td>\n",
       "      <td>4</td>\n",
       "      <td>Edd95a7bbac516897f19e62104fce597fc22bed2b4fa9a...</td>\n",
       "      <td>2030-09-30</td>\n",
       "      <td>2030-09-15</td>\n",
       "      <td>GECCG</td>\n",
       "    </tr>\n",
       "    <tr>\n",
       "      <th>2</th>\n",
       "      <td>0.517190</td>\n",
       "      <td>USD</td>\n",
       "      <td>CD</td>\n",
       "      <td>2030-07-15</td>\n",
       "      <td>4</td>\n",
       "      <td>E423cf49e82932f378c27034ec2bd6fe3830606caa42d3...</td>\n",
       "      <td>2030-07-30</td>\n",
       "      <td>2030-07-15</td>\n",
       "      <td>METCI</td>\n",
       "    </tr>\n",
       "    <tr>\n",
       "      <th>3</th>\n",
       "      <td>0.478993</td>\n",
       "      <td>USD</td>\n",
       "      <td>CD</td>\n",
       "      <td>2030-06-14</td>\n",
       "      <td>4</td>\n",
       "      <td>Ee89ffa0dc20c03663d643fdbdb9d85f34460b75a2c6f0...</td>\n",
       "      <td>2030-06-30</td>\n",
       "      <td>2030-06-15</td>\n",
       "      <td>GECCG</td>\n",
       "    </tr>\n",
       "    <tr>\n",
       "      <th>4</th>\n",
       "      <td>0.517190</td>\n",
       "      <td>USD</td>\n",
       "      <td>CD</td>\n",
       "      <td>2030-04-15</td>\n",
       "      <td>4</td>\n",
       "      <td>Ee4b12dadef7b17bcd4e3d76116f70a5fc96fcab3db650...</td>\n",
       "      <td>2030-04-30</td>\n",
       "      <td>2030-04-15</td>\n",
       "      <td>METCI</td>\n",
       "    </tr>\n",
       "    <tr>\n",
       "      <th>5</th>\n",
       "      <td>0.484375</td>\n",
       "      <td>USD</td>\n",
       "      <td>CD</td>\n",
       "      <td>2030-03-15</td>\n",
       "      <td>4</td>\n",
       "      <td>Ec34ea155d7551d9173210ad0e95af0c182a06a9fd8aac...</td>\n",
       "      <td>2030-03-31</td>\n",
       "      <td>2030-03-15</td>\n",
       "      <td>GECCG</td>\n",
       "    </tr>\n",
       "    <tr>\n",
       "      <th>6</th>\n",
       "      <td>0.517190</td>\n",
       "      <td>USD</td>\n",
       "      <td>CD</td>\n",
       "      <td>2030-01-15</td>\n",
       "      <td>4</td>\n",
       "      <td>E17f2cf2abb9543b8bffd00f02f56b8a1a8a73122d569b...</td>\n",
       "      <td>2030-01-30</td>\n",
       "      <td>2030-01-15</td>\n",
       "      <td>METCI</td>\n",
       "    </tr>\n",
       "    <tr>\n",
       "      <th>7</th>\n",
       "      <td>0.513450</td>\n",
       "      <td>USD</td>\n",
       "      <td>CD</td>\n",
       "      <td>2029-12-14</td>\n",
       "      <td>4</td>\n",
       "      <td>E5517750748dca0bc3e1e237ccfd6468a93f3d2ab543df...</td>\n",
       "      <td>2029-12-31</td>\n",
       "      <td>2029-12-15</td>\n",
       "      <td>GECCH</td>\n",
       "    </tr>\n",
       "    <tr>\n",
       "      <th>8</th>\n",
       "      <td>0.489757</td>\n",
       "      <td>USD</td>\n",
       "      <td>CD</td>\n",
       "      <td>2029-12-14</td>\n",
       "      <td>4</td>\n",
       "      <td>E5d7b63304e28504869d352068e9f88fc8d611566ff232...</td>\n",
       "      <td>2029-12-31</td>\n",
       "      <td>2029-12-15</td>\n",
       "      <td>GECCG</td>\n",
       "    </tr>\n",
       "    <tr>\n",
       "      <th>9</th>\n",
       "      <td>0.523440</td>\n",
       "      <td>USD</td>\n",
       "      <td>CD</td>\n",
       "      <td>2029-10-15</td>\n",
       "      <td>4</td>\n",
       "      <td>E3ebcc99c39df43869a525f4d4a5c5adef586ddc1f477d...</td>\n",
       "      <td>2029-10-30</td>\n",
       "      <td>2029-10-15</td>\n",
       "      <td>METCZ</td>\n",
       "    </tr>\n",
       "  </tbody>\n",
       "</table>\n",
       "</div>"
      ],
      "text/plain": [
       "   cash_amount currency dividend_type ex_dividend_date  frequency  \\\n",
       "0     0.489757      USD            CD       2030-12-13          4   \n",
       "1     0.484375      USD            CD       2030-09-13          4   \n",
       "2     0.517190      USD            CD       2030-07-15          4   \n",
       "3     0.478993      USD            CD       2030-06-14          4   \n",
       "4     0.517190      USD            CD       2030-04-15          4   \n",
       "5     0.484375      USD            CD       2030-03-15          4   \n",
       "6     0.517190      USD            CD       2030-01-15          4   \n",
       "7     0.513450      USD            CD       2029-12-14          4   \n",
       "8     0.489757      USD            CD       2029-12-14          4   \n",
       "9     0.523440      USD            CD       2029-10-15          4   \n",
       "\n",
       "                                                  id    pay_date record_date  \\\n",
       "0  E396fbae341a40e1373ea57ce984c386f06778209996e5...  2030-12-31  2030-12-15   \n",
       "1  Edd95a7bbac516897f19e62104fce597fc22bed2b4fa9a...  2030-09-30  2030-09-15   \n",
       "2  E423cf49e82932f378c27034ec2bd6fe3830606caa42d3...  2030-07-30  2030-07-15   \n",
       "3  Ee89ffa0dc20c03663d643fdbdb9d85f34460b75a2c6f0...  2030-06-30  2030-06-15   \n",
       "4  Ee4b12dadef7b17bcd4e3d76116f70a5fc96fcab3db650...  2030-04-30  2030-04-15   \n",
       "5  Ec34ea155d7551d9173210ad0e95af0c182a06a9fd8aac...  2030-03-31  2030-03-15   \n",
       "6  E17f2cf2abb9543b8bffd00f02f56b8a1a8a73122d569b...  2030-01-30  2030-01-15   \n",
       "7  E5517750748dca0bc3e1e237ccfd6468a93f3d2ab543df...  2029-12-31  2029-12-15   \n",
       "8  E5d7b63304e28504869d352068e9f88fc8d611566ff232...  2029-12-31  2029-12-15   \n",
       "9  E3ebcc99c39df43869a525f4d4a5c5adef586ddc1f477d...  2029-10-30  2029-10-15   \n",
       "\n",
       "  ticker  \n",
       "0  GECCG  \n",
       "1  GECCG  \n",
       "2  METCI  \n",
       "3  GECCG  \n",
       "4  METCI  \n",
       "5  GECCG  \n",
       "6  METCI  \n",
       "7  GECCH  \n",
       "8  GECCG  \n",
       "9  METCZ  "
      ]
     },
     "execution_count": 22,
     "metadata": {},
     "output_type": "execute_result"
    }
   ],
   "source": [
    "df.head()"
   ]
  },
  {
   "cell_type": "code",
   "execution_count": 18,
   "id": "688ec8b2-59c5-49d9-88ff-ff08641f7361",
   "metadata": {},
   "outputs": [
    {
     "data": {
      "text/plain": [
       "ticker\n",
       "GECCG    5\n",
       "METCI    3\n",
       "GECCH    1\n",
       "METCZ    1\n",
       "Name: count, dtype: int64"
      ]
     },
     "execution_count": 18,
     "metadata": {},
     "output_type": "execute_result"
    }
   ],
   "source": [
    "df['ticker'].value_counts()"
   ]
  },
  {
   "cell_type": "code",
   "execution_count": 30,
   "id": "feac07b7-be23-44db-9b84-d48cbb702797",
   "metadata": {},
   "outputs": [
    {
     "data": {
      "text/plain": [
       "(array([1., 2., 0., 2., 0., 0., 0., 0., 0., 0., 0., 1., 3., 0., 1.]),\n",
       " array([0.47899306, 0.48195619, 0.48491932, 0.48788245, 0.49084558,\n",
       "        0.49380871, 0.49677184, 0.49973497, 0.50269809, 0.50566122,\n",
       "        0.50862435, 0.51158748, 0.51455061, 0.51751374, 0.52047687,\n",
       "        0.52344   ]),\n",
       " <BarContainer object of 15 artists>)"
      ]
     },
     "execution_count": 30,
     "metadata": {},
     "output_type": "execute_result"
    },
    {
     "data": {
      "image/png": "[encoded data removed]",
      "text/plain": [
       "<Figure size 640x480 with 1 Axes>"
      ]
     },
     "metadata": {},
     "output_type": "display_data"
    }
   ],
   "source": [
    "fig, ax = plt.subplots()\n",
    "ax.hist(df['cash_amount'], bins = 15)"
   ]
  },
  {
   "cell_type": "code",
   "execution_count": null,
   "id": "5bc38b2a-2380-4abc-a9e0-285083c04094",
   "metadata": {},
   "outputs": [],
   "source": []
  }
 ],
 "metadata": {
  "kernelspec": {
   "display_name": "Python [conda env:base] *",
   "language": "python",
   "name": "conda-base-py"
  },
  "language_info": {
   "codemirror_mode": {
    "name": "ipython",
    "version": 3
   },
   "file_extension": ".py",
   "mimetype": "text/x-python",
   "name": "python",
   "nbconvert_exporter": "python",
   "pygments_lexer": "ipython3",
   "version": "3.12.2"
  }
 },
 "nbformat": 4,
 "nbformat_minor": 5
}
