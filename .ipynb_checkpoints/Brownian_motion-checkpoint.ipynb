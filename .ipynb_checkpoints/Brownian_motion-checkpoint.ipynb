{
 "cells": [
  {
   "cell_type": "markdown",
   "id": "707a2e5d-c654-4f33-bcd4-2e33f9d48714",
   "metadata": {},
   "source": [
    "Brownian motion can be thought of as a continuous version of the idea of random walk explored in simple_rw\n",
    "\n",
    "Parameters that determine the nature of the motion (ex l1, l2 p, for srw) are\n",
    "\n",
    "starting price\n",
    "drift\n",
    "standardized annual volatility\n",
    "number of steps"
   ]
  }
 ],
 "metadata": {
  "kernelspec": {
   "display_name": "Python [conda env:base] *",
   "language": "python",
   "name": "conda-base-py"
  },
  "language_info": {
   "codemirror_mode": {
    "name": "ipython",
    "version": 3
   },
   "file_extension": ".py",
   "mimetype": "text/x-python",
   "name": "python",
   "nbconvert_exporter": "python",
   "pygments_lexer": "ipython3",
   "version": "3.12.2"
  }
 },
 "nbformat": 4,
 "nbformat_minor": 5
}
