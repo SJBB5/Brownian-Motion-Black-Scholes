import requests
import pandas as pd
import os
from dotenv import load_dotenv
import matplotlib.pyplot as plt
# Load the .env file
load_dotenv()

# API key
API_KEY = os.getenv("POLYGON_API_KEY")


from_date = "2024-01-01"
to_date = "2024-12-31"


# Had chatgpt make a list of tickers that span a lot of different sectors of the market
important_tickers = {
    "S&P 500 ETF": "SPY",           # Broad U.S. market
    "NASDAQ 100 ETF": "QQQ",        # Tech-heavy index
    "Dow Jones ETF": "DIA",         # Industrial average
    "Apple": "AAPL",                # Tech
    "Microsoft": "MSFT",            # Tech
    "Amazon": "AMZN",               # E-commerce / Cloud
    "NVIDIA": "NVDA",               # Semiconductors / AI
    "Alphabet (Google)": "GOOGL",   # Tech / Advertising
    "Meta (Facebook)": "META",      # Social media / VR
    "Tesla": "TSLA",                # EV / Clean tech
    "Berkshire Hathaway": "BRK.B",  # Conglomerate / Finance
    "JPMorgan Chase": "JPM",        # Banking / Finance
    "Johnson & Johnson": "JNJ",     # Healthcare
    "Pfizer": "PFE",                # Pharma
    "ExxonMobil": "XOM",            # Energy / Oil
    "Chevron": "CVX",               # Energy
    "Walmart": "WMT",               # Retail
    "Procter & Gamble": "PG",       # Consumer staples
    "UnitedHealth Group": "UNH",    # Healthcare / Insurance
    "Coca-Cola": "KO"              # Consumer beverages
}



# For each ticker call api, clean data, then store it in data frame
# Can only get first five tickers uploaded for now because of free tier for Polygon
def ticker_to_data(ticker_dict, start_date, end_date):
    data_dict = {}
    
    for company, ticker in important_tickers.items():
        url = f"https://api.polygon.io/v2/aggs/ticker/{ticker}/range/1/day/{start_date}/{end_date}?adjusted=true&sort=asc&apiKey={API_KEY}"
        response = requests.get(url)
        data = response.json()

        if "results" in data:
            df = create_df_ticker(pd.DataFrame(data["results"]))
            data_dict[ticker] = df
        else:
            print(f"No data found for {ticker}: {data}")

    return data_dict


    


def create_df_ticker(dfx):
    dfx['t'] = pd.to_datetime(dfx['t'], unit = 'ms')

    dfx = dfx.rename(columns = {
        'v': 'Volume',
        'vw': 'vwap',
        'o': 'Open',
        'c': 'Close',
        'h': 'High',
        'l': 'Low',
        't': 'Time',
        'n': 'Transactions'
    })[["Time", "Open", "High", "Low", "Close", "Volume", "vwap", "Transactions"]]

    return dfx


def plot_ticker(dat_dict, ticker):
    df = dat_dict[ticker]
    x = df['Time']
    y = df['High']
    vol = df['Volume']
        
    fig, ax = plt.subplots(figsize = (10,5))

    # left axis
    ax.plot(x, y, label = 'High')
    ax.set_xlabel('Date')
    ax.set_ylabel('High (USD $)')

    # right axis
    ax1 = ax.twinx()
    ax1.plot(x, vol, label = 'Volume', c = 'Red')
    ax1.set_ylabel('Volume')

    # combine legends
    lines, labels = ax.get_legend_handles_labels()
    lines2, labels2 = ax1.get_legend_handles_labels()
    ax.legend(lines + lines2, labels + labels2, loc="upper left")
    
    # Formatting
    ax.set_title(f"{ticker} — High Price & Volume Over Time")
    ax.grid(True, linestyle="--", alpha=0.5)
    
    plt.show()


data_dict = ticker_to_data(important_tickers, from_date, to_date)


plot_ticker(data_dict, 'AAPL')



