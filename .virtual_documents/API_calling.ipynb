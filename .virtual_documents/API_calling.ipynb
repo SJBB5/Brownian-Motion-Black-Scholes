import stock_lib.funcs


from_date = "2023-01-01"
to_date = "2024-12-31"


# Had chatgpt make a list of tickers that span a lot of different sectors of the market
# Due to API limits can only use these first 5 for now
important_tickers = {
    "S&P 500 ETF": "SPY",           # Broad U.S. market
    "NASDAQ 100 ETF": "QQQ",        # Tech-heavy index
    "Dow Jones ETF": "DIA",         # Industrial average
    "Apple": "AAPL",                # Tech
    "Microsoft": "MSFT",            # Tech
    # "Amazon": "AMZN",               # E-commerce / Cloud
    # "NVIDIA": "NVDA",               # Semiconductors / AI
    # "Alphabet (Google)": "GOOGL",   # Tech / Advertising
    # "Meta (Facebook)": "META",      # Social media / VR
    # "Tesla": "TSLA",                # EV / Clean tech
    # "Berkshire Hathaway": "BRK.B",  # Conglomerate / Finance
    # "JPMorgan Chase": "JPM",        # Banking / Finance
    # "Johnson & Johnson": "JNJ",     # Healthcare
    # "Pfizer": "PFE",                # Pharma
    # "ExxonMobil": "XOM",            # Energy / Oil
    # "Chevron": "CVX",               # Energy
    # "Walmart": "WMT",               # Retail
    # "Procter & Gamble": "PG",       # Consumer staples
    # "UnitedHealth Group": "UNH",    # Healthcare / Insurance
    # "Coca-Cola": "KO"              # Consumer beverages
}


data_dict = stock_lib.funcs.ticker_to_data(important_tickers, from_date, to_date)


stock_lib.funcs.plot_ticker(data_dict, 'QQQ')



