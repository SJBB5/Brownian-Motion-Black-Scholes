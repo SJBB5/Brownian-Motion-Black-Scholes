


import numpy as np
import matplotlib.pyplot as plt
import math
import pandas as pd

n_paths = 25
n_steps = 100

rng = np.random.default_rng()

steps = rng.choice([-1.0, 1.0], size=(n_paths, n_steps)) # choice uses default of p = 0.5
paths = np.c_[np.zeros(n_paths), steps.cumsum(axis=1)] # Joins starting column and cumult increase arrays

t = np.arange(n_steps + 1)

fig, ax = plt.subplots(figsize=(10, 6))
ax.plot(t, paths.T, linewidth=1) 



